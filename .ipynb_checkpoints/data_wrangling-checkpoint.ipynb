{
 "cells": [
  {
   "cell_type": "markdown",
   "id": "c6816c46",
   "metadata": {},
   "source": [
    "## Dublin Bike Pre Processing data "
   ]
  },
  {
   "cell_type": "code",
   "execution_count": 1,
   "id": "b70746f2",
   "metadata": {},
   "outputs": [],
   "source": [
    "#import necessary libraries and files \n",
    "import pandas as pd\n",
    "import numpy as np\n",
    "import warnings\n",
    "import time\n",
    "import datetime as dt\n",
    "from datetime import date\n",
    "warnings.filterwarnings('ignore')\n",
    "import matplotlib.pyplot as plt\n",
    "#import folium\n",
    "import sklearn\n",
    "import seaborn as sns\n",
    "\n",
    "from sklearn.model_selection import train_test_split\n",
    "from matplotlib import pyplot as plt\n",
    "from sklearn.cluster import KMeans\n",
    "import os\n",
    "\n",
    "%matplotlib inline"
   ]
  },
  {
   "cell_type": "code",
   "execution_count": null,
   "id": "0b44bf03",
   "metadata": {},
   "outputs": [],
   "source": []
  },
  {
   "cell_type": "code",
   "execution_count": 2,
   "id": "f7875ca5",
   "metadata": {},
   "outputs": [
    {
     "name": "stdout",
     "output_type": "stream",
     "text": [
      "C:\\Users\\finnim\\Documents\\GitHub\\ML-Project\n"
     ]
    },
    {
     "ename": "FileNotFoundError",
     "evalue": "[WinError 3] The system cannot find the path specified: '.\\\\Documents/GitHub/ML-Project'",
     "output_type": "error",
     "traceback": [
      "\u001b[1;31m---------------------------------------------------------------------------\u001b[0m",
      "\u001b[1;31mFileNotFoundError\u001b[0m                         Traceback (most recent call last)",
      "\u001b[1;32m<ipython-input-2-18907a9d4b8d>\u001b[0m in \u001b[0;36m<module>\u001b[1;34m()\u001b[0m\n\u001b[0;32m      2\u001b[0m \u001b[0mold_dir\u001b[0m \u001b[1;33m=\u001b[0m \u001b[0mos\u001b[0m\u001b[1;33m.\u001b[0m\u001b[0mgetcwd\u001b[0m\u001b[1;33m(\u001b[0m\u001b[1;33m)\u001b[0m\u001b[1;33m\u001b[0m\u001b[0m\n\u001b[0;32m      3\u001b[0m \u001b[1;31m#os.path.join(os.path.curdir, 'selecting_stations.py')\u001b[0m\u001b[1;33m\u001b[0m\u001b[1;33m\u001b[0m\u001b[0m\n\u001b[1;32m----> 4\u001b[1;33m \u001b[0mos\u001b[0m\u001b[1;33m.\u001b[0m\u001b[0mchdir\u001b[0m\u001b[1;33m(\u001b[0m\u001b[0mos\u001b[0m\u001b[1;33m.\u001b[0m\u001b[0mpath\u001b[0m\u001b[1;33m.\u001b[0m\u001b[0mjoin\u001b[0m\u001b[1;33m(\u001b[0m\u001b[0mos\u001b[0m\u001b[1;33m.\u001b[0m\u001b[0mpath\u001b[0m\u001b[1;33m.\u001b[0m\u001b[0mcurdir\u001b[0m\u001b[1;33m,\u001b[0m \u001b[1;34m'Documents/GitHub/ML-Project'\u001b[0m\u001b[1;33m)\u001b[0m\u001b[1;33m)\u001b[0m\u001b[1;33m\u001b[0m\u001b[0m\n\u001b[0m\u001b[0;32m      5\u001b[0m \u001b[0mprint\u001b[0m\u001b[1;33m(\u001b[0m\u001b[0mos\u001b[0m\u001b[1;33m.\u001b[0m\u001b[0mgetcwd\u001b[0m\u001b[1;33m(\u001b[0m\u001b[1;33m)\u001b[0m\u001b[1;33m)\u001b[0m\u001b[1;33m\u001b[0m\u001b[0m\n",
      "\u001b[1;31mFileNotFoundError\u001b[0m: [WinError 3] The system cannot find the path specified: '.\\\\Documents/GitHub/ML-Project'"
     ]
    }
   ],
   "source": [
    "print(os.getcwd())\n",
    "old_dir = os.getcwd()\n",
    "#os.path.join(os.path.curdir, 'selecting_stations.py')\n",
    "os.chdir(os.path.join(os.path.curdir, 'Documents/GitHub/ML-Project'))\n",
    "print(os.getcwd())\n"
   ]
  },
  {
   "cell_type": "code",
   "execution_count": null,
   "id": "3cd3b651",
   "metadata": {},
   "outputs": [],
   "source": [
    "# constant value switches\n",
    "MAKE_FILES=True\n",
    "READ_FILES = False\n",
    "FILE_MASK = \"dublinbikes*.csv\"\n",
    "#FILE_MASK = \"dublinbikes_2021*.csv\""
   ]
  },
  {
   "cell_type": "code",
   "execution_count": null,
   "id": "f11ed4ac",
   "metadata": {},
   "outputs": [],
   "source": [
    "data = pd.read_csv(\"data/station_data.csv\")\n",
    "data = data.drop('include', axis = 1)\n",
    "data  = data.sort_values(['NAME', 'TIME' ])\n",
    "data['usage'] = abs(data['AVAILABLE BIKES'].diff())/data['BIKE STANDS']"
   ]
  },
  {
   "cell_type": "code",
   "execution_count": null,
   "id": "ddf2b312",
   "metadata": {},
   "outputs": [],
   "source": [
    "data.head()"
   ]
  },
  {
   "cell_type": "code",
   "execution_count": null,
   "id": "0ec2f99e",
   "metadata": {},
   "outputs": [],
   "source": [
    "data.to_csv(\"data/station_data.csv\", index=False)"
   ]
  },
  {
   "cell_type": "code",
   "execution_count": null,
   "id": "53d3a02d",
   "metadata": {},
   "outputs": [],
   "source": [
    "#data.isnull().sum()\n",
    "data.isna().sum()"
   ]
  },
  {
   "cell_type": "code",
   "execution_count": null,
   "id": "4370dcb1",
   "metadata": {},
   "outputs": [],
   "source": [
    "round(data.describe(), 3)\n",
    "\n",
    "#%%\n",
    "ct = pd.crosstab(index=data['NAME'], columns=data['cluster'])\n",
    "\n",
    "print(ct)"
   ]
  },
  {
   "cell_type": "code",
   "execution_count": null,
   "id": "1dd3f158",
   "metadata": {},
   "outputs": [],
   "source": [
    "\n",
    "data.drop_duplicates(keep= 'first',inplace=True)\n",
    "\n",
    "dates = [dt.datetime.strptime(d, \"%Y-%m-%d %H:%M:%S\") for d in data[\"TIME\"]]\n",
    "#get date and time columns\n",
    "data['datetime'] = dates\n",
    "data['time'] = data.datetime.dt.time\n",
    "#data['time'] = [dt.datetime.time(d) for d in data['DATETIME']] \n",
    "data['date'] = data.datetime.dt.date\n",
    "#data['date'] = [dt.datetime.date(d) for d in data['DATETIME']] \n",
    "data['date_for_merge'] = data.datetime.dt.round('d')\n",
    "\n",
    "\n",
    "startDate = min(dates).date()\n",
    "#create important features\n",
    "data['OCCUPANCY_PCT'] =  data['AVAILABLE BIKES'] / data['BIKE STANDS']\n",
    "data['FULL'] = np.where(data['OCCUPANCY_PCT'] == 0, 1,0 )\n",
    "data['EMPTY'] = np.where(data['OCCUPANCY_PCT'] == 1, 1,0 )\n",
    "\n",
    "### create time aggregates needed for clustering\n",
    "# weekday/saturday/sunday\n",
    "data['day_number'] = data.datetime.dt.dayofweek\n",
    "data['day_type'] = np.where(data['day_number'] <= 4, 'Weekday', (np.where(data['day_number'] == 5, 'Saturday', 'Sunday')))\n",
    "\n",
    "def bin_time(x):\n",
    "    if x.time() < dt.time(6):\n",
    "        return \"Overnight \"\n",
    "    elif x.time() < dt.time(11):\n",
    "        return \"6AM-10AM \"\n",
    "    elif x.time() < dt.time(16):\n",
    "        return \"11AM-3PM \"\n",
    "    elif x.time() < dt.time(20):\n",
    "        return \"4PM-7PM \"\n",
    "    elif x.time() <= dt.time(23):\n",
    "        return \"8PM-11PM \"\n",
    "    else:\n",
    "        return \"Overnight \"\n",
    "\n",
    "data[\"time_type\"] = data.datetime.apply(bin_time)\n",
    "data['hour'] = data.datetime.dt.hour\n",
    "data['month'] = data.datetime.dt.month\n",
    "data['week'] = data.datetime.dt.week\n",
    "data['year'] = data.datetime.dt.year\n",
    "data['dayIndex'] = [(d - startDate).days for d in data['date']]\n",
    "\n",
    "data.sample(5)"
   ]
  },
  {
   "cell_type": "code",
   "execution_count": null,
   "id": "7eaa1951",
   "metadata": {},
   "outputs": [],
   "source": [
    "print(data.columns.values)\n",
    "data.to_csv(\"data/station_data.csv\", index=False)"
   ]
  },
  {
   "cell_type": "code",
   "execution_count": null,
   "id": "713a2d19",
   "metadata": {},
   "outputs": [],
   "source": [
    "test_data = data[data['year']>= 2020]\n",
    "test_data.to_csv(\"data/test.csv\", index=False)\n",
    "print(pd.crosstab(index=test_data['NAME'], columns = data['cluster']))\n",
    "del test_data\n",
    "#training set\n",
    "training_data = data[data['year'] < 2020]\n",
    "#len(training_data)\n",
    "training_data.to_csv(\"data/training.csv\", index=False)#%%\n",
    "\n",
    "\n",
    "ct= pd.crosstab([training_data['NAME'], training_data['BIKE STANDS'], training_data['STATION ID']],training_data['cluster'])\n",
    "print(ct)"
   ]
  },
  {
   "cell_type": "code",
   "execution_count": null,
   "id": "d3442d37",
   "metadata": {},
   "outputs": [],
   "source": [
    "df = data.copy()\n",
    "\n",
    "range_start = date(2019, 12, 15)\n",
    "range_end = date(2020, 2, 1)\n",
    "\n",
    "m = (df.date >= range_start) & (df.date <= range_end)\n",
    "df_short = df[m].sort_values(by='datetime')\n",
    "plt.plot(df_short.date,df_short['AVAILABLE BIKES'])\n",
    "#colors = np.array([0, 4.0, 8.0, 12.0, 16.0, 20, 24.0, 28, 32.0, 36.0, 40])\n",
    "#, c=colors, cmap='viridis'\n",
    "#plt.scatter(df_short.date,df_short['AVAILABLE BIKES'], s=2, color='hotpink')\n",
    "plt.show()\n",
    "\n"
   ]
  },
  {
   "cell_type": "code",
   "execution_count": null,
   "id": "9c922eaa",
   "metadata": {},
   "outputs": [],
   "source": [
    "# check stations remaining\n",
    "df_short.date.unique()\n"
   ]
  },
  {
   "cell_type": "code",
   "execution_count": null,
   "id": "87e6f401",
   "metadata": {},
   "outputs": [],
   "source": [
    "d= {'day': [18, 19, 20, 21, 26, 27, 28, 29, 2, 7, 8, 9, 10, 11, 12, 15, 16, 17, 18, 19, 20, 21, 22, 26], \\\n",
    "    'month': [12, 12, 12, 12, 12, 12, 12, 12, 1, 1, 1, 1, 1, 1, 1, 1, 1, 1, 1, 1, 1, 1, 1, 1], \\\n",
    "    'year': [2019, 2019, 2019, 2019, 2019, 2019, 2019, 2019, 2020, 2020, 2020, 2020, 2020, 2020, 2020, 2020, 2020, 2020, 2020, 2020, 2020, 2020, 2020, 2020]}\n",
    "\n",
    "\n",
    "missing = pd.DataFrame(data=d)\n",
    "\n",
    "missing['date'] = [date(a, b, c) for a, b, c in zip(missing.year, missing.month, missing.day)]\n",
    "missing.to_csv(\"data/missing.csv\", index = False)\n",
    "missing\n"
   ]
  },
  {
   "cell_type": "code",
   "execution_count": null,
   "id": "d1cbcca6",
   "metadata": {},
   "outputs": [],
   "source": [
    "ct= pd.crosstab([training_data['NAME'], training_data['BIKE STANDS'], training_data['STATION ID']],training_data['cluster'])\n",
    "print(ct)\n"
   ]
  },
  {
   "cell_type": "code",
   "execution_count": null,
   "id": "a80be570",
   "metadata": {},
   "outputs": [],
   "source": [
    "def mapLocations(data) :\n",
    "    locations  = data[['LATITUDE', 'LONGITUDE', 'cluster']].drop_duplicates()\n",
    "    #data.sample(50)\n",
    "    colordict = {0: 'blue', 1: 'red', 2: 'green'}\n",
    "    dublin_map = folium.Map([53.345, -6.2650], zoom_start=13.0)\n",
    "\n",
    "    for LATITUDE, LONGITUDE, cluster in zip(locations['LATITUDE'],locations['LONGITUDE'],locations['cluster']):\n",
    "        folium.CircleMarker(\n",
    "            [LATITUDE, LONGITUDE],\n",
    "            color = 'b',\n",
    "            radius = 8,\n",
    "            fill_color=colordict[cluster],\n",
    "            fill=True,\n",
    "            fill_opacity=0.9\n",
    "            ).add_to(dublin_map)\n",
    "    dublin_map  \n",
    "mapLocations(data)"
   ]
  },
  {
   "cell_type": "code",
   "execution_count": null,
   "id": "7a8687bf",
   "metadata": {},
   "outputs": [],
   "source": []
  },
  {
   "cell_type": "markdown",
   "id": "3a6ed09b",
   "metadata": {},
   "source": [
    "Based on the map the location stations choosen were: \n",
    "- 'HANOVER QUAY' in Grand Canal Dock (blue) + FITZWILLIAM SQUARE EAST\n",
    "- 'YORK STREET EAST' in south Dublin  (red) + 'NEW CENTRAL BANK'\n",
    "- 'MATER HOSPITAL'- north side, hospital (green) (rotunda parnell st north)"
   ]
  },
  {
   "cell_type": "code",
   "execution_count": null,
   "id": "e6f171a5",
   "metadata": {},
   "outputs": [],
   "source": []
  }
 ],
 "metadata": {
  "kernelspec": {
   "display_name": "Python 3 (ipykernel)",
   "language": "python",
   "name": "python3"
  },
  "language_info": {
   "codemirror_mode": {
    "name": "ipython",
    "version": 3
   },
   "file_extension": ".py",
   "mimetype": "text/x-python",
   "name": "python",
   "nbconvert_exporter": "python",
   "pygments_lexer": "ipython3",
   "version": "3.9.16"
  }
 },
 "nbformat": 4,
 "nbformat_minor": 5
}
